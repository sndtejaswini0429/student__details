fd=open('record.txt','r')
txt=fd.read()
fd.close()



info=txt.split()
student=input('enter student id:')
for i in info:
  inf=i.split(',')
  #print(inf)
  if(student==inf[0]):
    print("____________________________STUDENT DETAILS______________________________")
    print("id:",inf[0])
    print("student name:",inf[1])
    print("year:",inf[2])
    print("branch:",inf[3])
    print("______________________________MARKS DETAILS_______________________________")
    print("s1:",inf[4])
    print("s2:",inf[5])
    print("s3:",inf[6])
    print("s4:",inf[7])
    print("total=",int(inf[4])+int(inf[5])+int(inf[6])+int(inf[7]))
    avg=(int(inf[4])+int(inf[5])+int(inf[6])+int(inf[7]))/4
    print("average=",avg)
    if (avg>=85): 
      print("pass")   
      print("The Grade of the student with id "+inf[0] +" is O")
    elif (avg>70 and avg<85):
      print("pass")
      print("The Grade of the student with id "+ inf[0] +" is S")
    elif (avg>60 and avg<=70):
      print("pass")
      print("The Grade of the student with id "+inf[0] +" is A")
    elif (avg> 50 and avg<=60):
      print("pass")
      print("The Grade of the student with id "+inf[0]+ " is B")
    else:
      print("The Grade of the student with id "+inf[0] +" is Fail")

    if (inf[8] == "eligible") :
      print("yes the student is eligible for Honor Degree")
      print("domain :", inf[9])
    else:
      print("no, the student is not eligible for Honor Degree")
      
      
 #updating record details
 fd = open("data.json", 'r')
 r = fd.read()
 fd.close() 
 
 import json
 rec = json.loads(r)
 rec

new_id = int(input("Enter student id:"))
new_name = str(input("Enter name: "))
new_hdomain = str(input("enter new domain: "))


rec[inf[0]] = {'name': new_name, "Honordomain": new_hdomain }

js = json.dumps(rec)


fd = open("data.json",'w')
fd.write(js)
fd.close()
